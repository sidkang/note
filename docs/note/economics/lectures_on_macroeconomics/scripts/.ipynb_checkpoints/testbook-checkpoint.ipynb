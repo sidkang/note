{
 "cells": [
  {
   "cell_type": "code",
   "execution_count": 2,
   "metadata": {},
   "outputs": [],
   "source": [
    "import wbdata\n",
    "import datetime as dt"
   ]
  },
  {
   "source": [
    "wbdata.get_source()"
   ],
   "cell_type": "markdown",
   "metadata": {}
  },
  {
   "cell_type": "code",
   "execution_count": 3,
   "metadata": {},
   "outputs": [
    {
     "output_type": "execute_result",
     "data": {
      "text/plain": [
       "      gdp_annual_growth\n",
       "date                   \n",
       "2008           9.650679\n",
       "2007          14.230861\n",
       "2006          12.720956\n",
       "2005          11.394592\n",
       "2004          10.113621\n",
       "2003          10.038030\n",
       "2002           9.133631\n",
       "2001           8.335733\n",
       "2000           8.490093\n",
       "1999           7.661652\n",
       "1998           7.845952\n",
       "1997           9.236780\n",
       "1996           9.922557\n",
       "1995          10.953954\n",
       "1994          13.036807\n",
       "1993          13.883729\n",
       "1992          14.224530\n",
       "1991           9.262786\n",
       "1990           3.920251"
      ],
      "text/html": "<div>\n<style scoped>\n    .dataframe tbody tr th:only-of-type {\n        vertical-align: middle;\n    }\n\n    .dataframe tbody tr th {\n        vertical-align: top;\n    }\n\n    .dataframe thead th {\n        text-align: right;\n    }\n</style>\n<table border=\"1\" class=\"dataframe\">\n  <thead>\n    <tr style=\"text-align: right;\">\n      <th></th>\n      <th>gdp_annual_growth</th>\n    </tr>\n    <tr>\n      <th>date</th>\n      <th></th>\n    </tr>\n  </thead>\n  <tbody>\n    <tr>\n      <th>2008</th>\n      <td>9.650679</td>\n    </tr>\n    <tr>\n      <th>2007</th>\n      <td>14.230861</td>\n    </tr>\n    <tr>\n      <th>2006</th>\n      <td>12.720956</td>\n    </tr>\n    <tr>\n      <th>2005</th>\n      <td>11.394592</td>\n    </tr>\n    <tr>\n      <th>2004</th>\n      <td>10.113621</td>\n    </tr>\n    <tr>\n      <th>2003</th>\n      <td>10.038030</td>\n    </tr>\n    <tr>\n      <th>2002</th>\n      <td>9.133631</td>\n    </tr>\n    <tr>\n      <th>2001</th>\n      <td>8.335733</td>\n    </tr>\n    <tr>\n      <th>2000</th>\n      <td>8.490093</td>\n    </tr>\n    <tr>\n      <th>1999</th>\n      <td>7.661652</td>\n    </tr>\n    <tr>\n      <th>1998</th>\n      <td>7.845952</td>\n    </tr>\n    <tr>\n      <th>1997</th>\n      <td>9.236780</td>\n    </tr>\n    <tr>\n      <th>1996</th>\n      <td>9.922557</td>\n    </tr>\n    <tr>\n      <th>1995</th>\n      <td>10.953954</td>\n    </tr>\n    <tr>\n      <th>1994</th>\n      <td>13.036807</td>\n    </tr>\n    <tr>\n      <th>1993</th>\n      <td>13.883729</td>\n    </tr>\n    <tr>\n      <th>1992</th>\n      <td>14.224530</td>\n    </tr>\n    <tr>\n      <th>1991</th>\n      <td>9.262786</td>\n    </tr>\n    <tr>\n      <th>1990</th>\n      <td>3.920251</td>\n    </tr>\n  </tbody>\n</table>\n</div>"
     },
     "metadata": {},
     "execution_count": 3
    }
   ],
   "source": [
    "# wbdata.get_data(\"NY.GDP.MKTP.KD.ZG\", country=\"CN\")\n",
    "countries = [\"CN\"]                                                                                                 \n",
    "indicators = {\"NY.GDP.MKTP.KD.ZG\": \"gdp_annual_growth\"}\n",
    "dt_range = dt.datetime(2008, 1, 1), dt.datetime(1990, 1, 1)\n",
    "df = wbdata.get_dataframe(indicators, country=countries, convert_date=False, data_date=dt_range)\n",
    "df"
   ]
  },
  {
   "cell_type": "code",
   "execution_count": null,
   "metadata": {},
   "outputs": [],
   "source": []
  }
 ],
 "metadata": {
  "kernelspec": {
   "display_name": "Python 3",
   "language": "python",
   "name": "python3"
  },
  "language_info": {
   "codemirror_mode": {
    "name": "ipython",
    "version": 3
   },
   "file_extension": ".py",
   "mimetype": "text/x-python",
   "name": "python",
   "nbconvert_exporter": "python",
   "pygments_lexer": "ipython3",
   "version": "3.9.0-final"
  }
 },
 "nbformat": 4,
 "nbformat_minor": 4
}